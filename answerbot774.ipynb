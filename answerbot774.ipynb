{
  "nbformat": 4,
  "nbformat_minor": 0,
  "metadata": {
    "colab": {
      "name": "answerbot774.ipynb",
      "provenance": [],
      "machine_shape": "hm"
    },
    "kernelspec": {
      "name": "python3",
      "display_name": "Python 3"
    },
    "accelerator": "GPU"
  },
  "cells": [
    {
      "cell_type": "code",
      "metadata": {
        "id": "Cl7BgK7UY6hL",
        "colab_type": "code",
        "outputId": "75ae3bfe-b2db-4d12-b4a1-8df661904307",
        "colab": {
          "base_uri": "https://localhost:8080/",
          "height": 323
        }
      },
      "source": [
        "pip install praw"
      ],
      "execution_count": 0,
      "outputs": [
        {
          "output_type": "stream",
          "text": [
            "Collecting praw\n",
            "\u001b[?25l  Downloading https://files.pythonhosted.org/packages/25/c0/b9714b4fb164368843b41482a3cac11938021871adf99bf5aaa3980b0182/praw-6.5.1-py3-none-any.whl (134kB)\n",
            "\r\u001b[K     |██▍                             | 10kB 21.7MB/s eta 0:00:01\r\u001b[K     |████▉                           | 20kB 3.0MB/s eta 0:00:01\r\u001b[K     |███████▎                        | 30kB 3.7MB/s eta 0:00:01\r\u001b[K     |█████████▊                      | 40kB 2.9MB/s eta 0:00:01\r\u001b[K     |████████████▏                   | 51kB 3.5MB/s eta 0:00:01\r\u001b[K     |██████████████▋                 | 61kB 4.2MB/s eta 0:00:01\r\u001b[K     |█████████████████               | 71kB 4.4MB/s eta 0:00:01\r\u001b[K     |███████████████████▌            | 81kB 4.7MB/s eta 0:00:01\r\u001b[K     |█████████████████████▉          | 92kB 5.3MB/s eta 0:00:01\r\u001b[K     |████████████████████████▎       | 102kB 4.8MB/s eta 0:00:01\r\u001b[K     |██████████████████████████▊     | 112kB 4.8MB/s eta 0:00:01\r\u001b[K     |█████████████████████████████▏  | 122kB 4.8MB/s eta 0:00:01\r\u001b[K     |███████████████████████████████▋| 133kB 4.8MB/s eta 0:00:01\r\u001b[K     |████████████████████████████████| 143kB 4.8MB/s \n",
            "\u001b[?25hCollecting update-checker>=0.16\n",
            "  Downloading https://files.pythonhosted.org/packages/17/c9/ab11855af164d03be0ff4fddd4c46a5bd44799a9ecc1770e01a669c21168/update_checker-0.16-py2.py3-none-any.whl\n",
            "Collecting prawcore<2.0,>=1.0.1\n",
            "  Downloading https://files.pythonhosted.org/packages/76/b5/ce6282dea45cba6f08a30e25d18e0f3d33277e2c9fcbda75644b8dc0089b/prawcore-1.0.1-py2.py3-none-any.whl\n",
            "Collecting websocket-client>=0.54.0\n",
            "\u001b[?25l  Downloading https://files.pythonhosted.org/packages/4c/5f/f61b420143ed1c8dc69f9eaec5ff1ac36109d52c80de49d66e0c36c3dfdf/websocket_client-0.57.0-py2.py3-none-any.whl (200kB)\n",
            "\u001b[K     |████████████████████████████████| 204kB 42.6MB/s \n",
            "\u001b[?25hRequirement already satisfied: requests>=2.3.0 in /usr/local/lib/python3.6/dist-packages (from update-checker>=0.16->praw) (2.21.0)\n",
            "Requirement already satisfied: six in /usr/local/lib/python3.6/dist-packages (from websocket-client>=0.54.0->praw) (1.12.0)\n",
            "Requirement already satisfied: chardet<3.1.0,>=3.0.2 in /usr/local/lib/python3.6/dist-packages (from requests>=2.3.0->update-checker>=0.16->praw) (3.0.4)\n",
            "Requirement already satisfied: certifi>=2017.4.17 in /usr/local/lib/python3.6/dist-packages (from requests>=2.3.0->update-checker>=0.16->praw) (2019.11.28)\n",
            "Requirement already satisfied: urllib3<1.25,>=1.21.1 in /usr/local/lib/python3.6/dist-packages (from requests>=2.3.0->update-checker>=0.16->praw) (1.24.3)\n",
            "Requirement already satisfied: idna<2.9,>=2.5 in /usr/local/lib/python3.6/dist-packages (from requests>=2.3.0->update-checker>=0.16->praw) (2.8)\n",
            "Installing collected packages: update-checker, prawcore, websocket-client, praw\n",
            "Successfully installed praw-6.5.1 prawcore-1.0.1 update-checker-0.16 websocket-client-0.57.0\n"
          ],
          "name": "stdout"
        }
      ]
    },
    {
      "cell_type": "code",
      "metadata": {
        "id": "m45KasrEZRPe",
        "colab_type": "code",
        "outputId": "c46c9188-eefb-4207-d954-b24719703162",
        "colab": {
          "base_uri": "https://localhost:8080/",
          "height": 170
        }
      },
      "source": [
        "import praw\n",
        "%tensorflow_version 1.x\n",
        "!pip install -q gpt-2-simple\n",
        "import gpt_2_simple as gpt2\n",
        "from datetime import datetime\n",
        "from google.colab import files"
      ],
      "execution_count": 0,
      "outputs": [
        {
          "output_type": "stream",
          "text": [
            "  Building wheel for gpt-2-simple (setup.py) ... \u001b[?25l\u001b[?25hdone\n",
            "WARNING:tensorflow:\n",
            "The TensorFlow contrib module will not be included in TensorFlow 2.0.\n",
            "For more information, please see:\n",
            "  * https://github.com/tensorflow/community/blob/master/rfcs/20180907-contrib-sunset.md\n",
            "  * https://github.com/tensorflow/addons\n",
            "  * https://github.com/tensorflow/io (for I/O related ops)\n",
            "If you depend on functionality not listed there, please file an issue.\n",
            "\n"
          ],
          "name": "stdout"
        }
      ]
    },
    {
      "cell_type": "code",
      "metadata": {
        "id": "-UB83PBXZUQa",
        "colab_type": "code",
        "outputId": "b44752a3-346c-4f72-8e7f-1cab9546131f",
        "colab": {
          "base_uri": "https://localhost:8080/",
          "height": 136
        }
      },
      "source": [
        "gpt2.download_gpt2(model_name=\"774M\")"
      ],
      "execution_count": 0,
      "outputs": [
        {
          "output_type": "stream",
          "text": [
            "Fetching checkpoint: 1.05Mit [00:00, 415Mit/s]                                                      \n",
            "Fetching encoder.json: 1.05Mit [00:00, 109Mit/s]                                                    \n",
            "Fetching hparams.json: 1.05Mit [00:00, 732Mit/s]                                                    \n",
            "Fetching model.ckpt.data-00000-of-00001: 3.10Git [00:38, 80.8Mit/s]                                 \n",
            "Fetching model.ckpt.index: 1.05Mit [00:00, 274Mit/s]                                                \n",
            "Fetching model.ckpt.meta: 2.10Mit [00:00, 179Mit/s]                                                 \n",
            "Fetching vocab.bpe: 1.05Mit [00:00, 187Mit/s]                                                       \n"
          ],
          "name": "stderr"
        }
      ]
    },
    {
      "cell_type": "code",
      "metadata": {
        "id": "NTMl3BmHZaI9",
        "colab_type": "code",
        "outputId": "549d9202-653d-4d67-c536-2f03aea07649",
        "colab": {
          "base_uri": "https://localhost:8080/",
          "height": 51
        }
      },
      "source": [
        "sess = gpt2.start_tf_sess()\n",
        "gpt2.load_gpt2(sess,model_name='774M')"
      ],
      "execution_count": 0,
      "outputs": [
        {
          "output_type": "stream",
          "text": [
            "Loading pretrained model models/774M/model.ckpt\n",
            "INFO:tensorflow:Restoring parameters from models/774M/model.ckpt\n"
          ],
          "name": "stdout"
        }
      ]
    },
    {
      "cell_type": "code",
      "metadata": {
        "id": "-x44gyuKZ-Ln",
        "colab_type": "code",
        "colab": {}
      },
      "source": [
        "reddit=praw.Reddit(client_id=<client id>,client_secret=<client secret>,user_agent='Python answer-reddit-bot v1.0 (by /u/answer-reddit-bot)',username='answer-reddit-bot',password=<password>);\n"
      ],
      "execution_count": 0,
      "outputs": []
    },
    {
      "cell_type": "code",
      "metadata": {
        "id": "SeC3mF0GaC_W",
        "colab_type": "code",
        "outputId": "2e39ddcb-6fcc-4a03-be59-84bf5eb41dc5",
        "colab": {
          "base_uri": "https://localhost:8080/",
          "height": 544
        }
      },
      "source": [
        "\n",
        "\n",
        "while True:\n",
        "\n",
        "  for submission in reddit.subreddit('AskReddit').new(limit=10):\n",
        "                if submission.title.startswith('[SERIOUS]') or submission.title.startswith('[Serious]') or submission.title.startswith('(Serious)') or 'Serious' in submission.title:\n",
        "                   continue; \n",
        "                comment=gpt2.generate(sess,\n",
        "                model_name=\"774M\",\n",
        "                prefix=submission.title,\n",
        "                return_as_list=True,\n",
        "                length=50,\n",
        "                temperature=0.7,\n",
        "                top_p=0.9,\n",
        "                nsamples=1,\n",
        "                batch_size=1);\n",
        "                comment[0]=comment[0].replace(submission.title,'');\n",
        "                if comment[0].count('.')!=0:\n",
        "                  comment[0]=comment[0][0:comment[0].rindex('.')+1];\n",
        "                print(comment[0]);\n",
        "                submission.reply(comment[0]);\n",
        "\n",
        "                \n",
        "              "
      ],
      "execution_count": 0,
      "outputs": [
        {
          "output_type": "stream",
          "text": [
            "\n",
            "\n",
            "I was told that my hair looked too long and was \"too straight\". It's true that my hair is long and straight. My hair is not straight because I have curly hair.\n",
            " I'm not really planning on going out, I'm just going to stay home with my boyfriend and watch some shitty tv.\n",
            "\n",
            "It's not a big deal. If I were to get a boyfriend, he'd be a white male.\n",
            "\n",
            "\n",
            "Kris: (laughs) I think my favorite comment thread was probably the one where I was on the board for the first time. I think the board was just filled with the most awesome people.\n",
            "\n",
            "\n",
            "As a community, I feel like we're very short on content, and it's really hard to find content that is worth subscribing/watching.\n",
            "\n",
            "\n",
            "Most sailors believe that their spirits will protect them in the sea, and that they will survive the storm and the weather. They also believe that if they fall into a storm, they will be able to find their way home.\n",
            "\n",
            "\n",
            "No, you're asking me a question. I'm asking you a question.\n",
            "\n",
            "So you're saying that I'm asking you a question?\n",
            "\n",
            "No, I'm saying you're asking me a question.\n",
            "\n",
            "\n",
            "For example, you were saying something about someone who has a different opinion to you, but when it was proven true, you were shocked.\n",
            "\n",
            "\n",
            "A: It's not. It's an act of love. It's not a crime. It's not even a big deal.\n",
            "\n",
            "\n",
            "I was interviewed by a producer at a local radio station. He asked me to read a script for a talk show he was producing and I just couldn't do it. I couldn't even do a simple read-through of the script.\n"
          ],
          "name": "stdout"
        }
      ]
    }
  ]
}